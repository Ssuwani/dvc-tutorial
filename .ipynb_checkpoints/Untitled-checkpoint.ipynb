{
 "cells": [
  {
   "cell_type": "code",
   "execution_count": 50,
   "id": "5313b94d-7c53-4b21-9384-4a51d96fe785",
   "metadata": {},
   "outputs": [
    {
     "name": "stdout",
     "output_type": "stream",
     "text": [
      "total 72\n",
      "drwxr-xr-x    4 suwan  staff    128 11 22 11:53 \u001b[1m\u001b[36m.\u001b[m\u001b[m\n",
      "drwxr-xr-x@ 124 suwan  staff   3968 11 22 11:49 \u001b[1m\u001b[36m..\u001b[m\u001b[m\n",
      "-rw-r--r--    1 suwan  staff  35819 11 22 11:51 Untitled.ipynb\n",
      "drwxr-xr-x    3 suwan  staff     96 11 22 11:50 \u001b[1m\u001b[36mdata\u001b[m\u001b[m\n"
     ]
    }
   ],
   "source": [
    "!ls -al\n",
    "\n",
    "# !rm -rf .dvc .dvcignore .git .gitignore .ipynb_checkpoints/ data.dvc"
   ]
  },
  {
   "cell_type": "markdown",
   "id": "9a4f940e-15ad-42ec-9ad2-631501d21615",
   "metadata": {},
   "source": [
    "# Git"
   ]
  },
  {
   "cell_type": "code",
   "execution_count": 51,
   "id": "cfe412af-82e8-41c4-b71c-b578e453da6a",
   "metadata": {},
   "outputs": [
    {
     "name": "stdout",
     "output_type": "stream",
     "text": [
      "Initialized empty Git repository in /Users/suwan/dvc-tutorial/.git/\n"
     ]
    }
   ],
   "source": [
    "!git init"
   ]
  },
  {
   "cell_type": "code",
   "execution_count": 52,
   "id": "55634178-bd5b-4939-b763-887713a84153",
   "metadata": {},
   "outputs": [],
   "source": [
    "!git remote add origin https://github.com/ssuwani/dvc-tutorial"
   ]
  },
  {
   "cell_type": "markdown",
   "id": "e0198810-c8dd-42e3-b589-23607ebd4d52",
   "metadata": {},
   "source": [
    "# DVC"
   ]
  },
  {
   "cell_type": "code",
   "execution_count": 53,
   "id": "00de6654-c78d-4572-80e1-d5c44bf01d75",
   "metadata": {},
   "outputs": [
    {
     "name": "stdout",
     "output_type": "stream",
     "text": [
      "Initialized DVC repository.\n",
      "\n",
      "You can now commit the changes to git.\n",
      "\n",
      "\u001b[31m+---------------------------------------------------------------------+\n",
      "\u001b[0m\u001b[31m|\u001b[0m                                                                     \u001b[31m|\u001b[0m\n",
      "\u001b[31m|\u001b[0m        DVC has enabled anonymous aggregate usage analytics.         \u001b[31m|\u001b[0m\n",
      "\u001b[31m|\u001b[0m     Read the analytics documentation (and how to opt-out) here:     \u001b[31m|\u001b[0m\n",
      "\u001b[31m|\u001b[0m             <\u001b[36mhttps://dvc.org/doc/user-guide/analytics\u001b[39m>              \u001b[31m|\u001b[0m\n",
      "\u001b[31m|\u001b[0m                                                                     \u001b[31m|\u001b[0m\n",
      "\u001b[31m+---------------------------------------------------------------------+\n",
      "\u001b[0m\n",
      "\u001b[33mWhat's next?\u001b[39m\n",
      "\u001b[33m------------\u001b[39m\n",
      "- Check out the documentation: <\u001b[36mhttps://dvc.org/doc\u001b[39m>\n",
      "- Get help and share ideas: <\u001b[36mhttps://dvc.org/chat\u001b[39m>\n",
      "- Star us on GitHub: <\u001b[36mhttps://github.com/iterative/dvc\u001b[39m>\n",
      "\u001b[0m"
     ]
    }
   ],
   "source": [
    "!dvc init"
   ]
  },
  {
   "cell_type": "markdown",
   "id": "2beabb38-353b-4f4f-8e72-11149407180a",
   "metadata": {},
   "source": [
    "## Create a Local folder"
   ]
  },
  {
   "cell_type": "code",
   "execution_count": 54,
   "id": "629f7a0e-09ac-469e-b7d9-8a0004b339c1",
   "metadata": {},
   "outputs": [
    {
     "name": "stdout",
     "output_type": "stream",
     "text": [
      "mkdir: data: File exists\n"
     ]
    }
   ],
   "source": [
    "!mkdir data"
   ]
  },
  {
   "cell_type": "markdown",
   "id": "73a4239e-2059-4cc5-853b-0fe5060facad",
   "metadata": {},
   "source": [
    "## Create a Remote folder"
   ]
  },
  {
   "cell_type": "code",
   "execution_count": 55,
   "id": "12a12399-4157-4c71-a7fe-440af3089a74",
   "metadata": {},
   "outputs": [],
   "source": [
    "remote_folder = \"gs://suwan-dvc-tutorial\""
   ]
  },
  {
   "cell_type": "code",
   "execution_count": 1,
   "id": "e81e07ad-d507-4f92-8808-d17c0b70ad09",
   "metadata": {},
   "outputs": [
    {
     "name": "stdout",
     "output_type": "stream",
     "text": [
      "Creating gs://suwan-dvc-tutorial/...\n"
     ]
    }
   ],
   "source": [
    "!gsutil mb gs://suwan-dvc-tutorial"
   ]
  },
  {
   "cell_type": "markdown",
   "id": "5a493b45-b436-4af2-97f6-6411698511d4",
   "metadata": {},
   "source": [
    "### Connect load and remote"
   ]
  },
  {
   "cell_type": "code",
   "execution_count": 19,
   "id": "60e39bac-ac92-4159-8131-b55c65abc3f9",
   "metadata": {},
   "outputs": [
    {
     "name": "stdout",
     "output_type": "stream",
     "text": [
      "Setting 'data' as a default remote.\n",
      "\u001b[0m"
     ]
    }
   ],
   "source": [
    "!dvc remote add -d data $remote_folder -f"
   ]
  },
  {
   "cell_type": "markdown",
   "id": "c980467e-7be8-474d-aa08-9f2fe23e25c8",
   "metadata": {},
   "source": [
    "### Confirm connect"
   ]
  },
  {
   "cell_type": "code",
   "execution_count": 20,
   "id": "d6a45193-edc8-49b7-be2c-789148312967",
   "metadata": {},
   "outputs": [
    {
     "name": "stdout",
     "output_type": "stream",
     "text": [
      "[core]\n",
      "    remote = data\n",
      "['remote \"data\"']\n",
      "    url = gs://suwan-dvc-tutorial\n"
     ]
    }
   ],
   "source": [
    "!cat .dvc/config"
   ]
  },
  {
   "cell_type": "markdown",
   "id": "44768342-5e7a-4abf-be8c-7649c6d48012",
   "metadata": {},
   "source": [
    "## Add MNIST data info Local folder"
   ]
  },
  {
   "cell_type": "code",
   "execution_count": 21,
   "id": "7454a69b-caa8-413d-be6a-04454779684f",
   "metadata": {},
   "outputs": [],
   "source": [
    "import tensorflow as tf\n",
    "import numpy as np\n",
    "\n",
    "mnist = tf.keras.datasets.mnist\n",
    "(X, Y), (test_x, test_y) = mnist.load_data()"
   ]
  },
  {
   "cell_type": "markdown",
   "id": "aebf83ff-8066-484a-87ee-32fb64a78d67",
   "metadata": {},
   "source": [
    "### Version 1 Train data [10000 / 60000]"
   ]
  },
  {
   "cell_type": "code",
   "execution_count": 41,
   "id": "c7387759-1aae-4449-9e6a-6a89ebcbe18e",
   "metadata": {},
   "outputs": [],
   "source": [
    "train_x = X[:10000]\n",
    "train_y = Y[:10000]\n",
    "\n",
    "np.savez(\"data/dataset.npz\",\n",
    "        train_x=train_x,\n",
    "        train_y=train_y,\n",
    "        test_x=test_x,\n",
    "        test_y=test_y)"
   ]
  },
  {
   "cell_type": "code",
   "execution_count": 42,
   "id": "3e28f2da-cc0f-43de-bc2e-4d1fd3699994",
   "metadata": {},
   "outputs": [
    {
     "name": "stdout",
     "output_type": "stream",
     "text": [
      "\u001b[?25l                                                                          \u001b[32m⠋\u001b[0m Checking graph\n",
      "Adding...                                                                       \n",
      "!\u001b[A\n",
      "Computing file/dir hashes (only done once)            |0.00 [00:00,      ?md5/s]\u001b[A\n",
      "\n",
      "!\u001b[A\u001b[A\n",
      "\n",
      "  0%|          |                                   0.00/? [00:00<?,        ?B/s]\u001b[A\u001b[A\n",
      "\n",
      "                                                                                \u001b[A\u001b[A\n",
      "                                                                                \u001b[A\n",
      "!\u001b[A\n",
      "  0%|          |                                0.00/71.0 [00:00<?,        ?B/s]\u001b[A\n",
      "  0%|          |                                0.00/71.0 [00:00<?,        ?B/s]\u001b[A\n",
      "100% Adding...|████████████████████████████████████████|1/1 [00:00, 22.54file/s]\u001b[A\n",
      "\n",
      "To track the changes with git, run:\n",
      "\n",
      "\tgit add data.dvc\n",
      "\u001b[0m"
     ]
    }
   ],
   "source": [
    "!dvc add data"
   ]
  },
  {
   "cell_type": "code",
   "execution_count": 43,
   "id": "0f73feb5-030f-4b6e-ad88-2e9e0f61a043",
   "metadata": {},
   "outputs": [
    {
     "name": "stdout",
     "output_type": "stream",
     "text": [
      "  0% Transferring|                                   |0/2 [00:00<?,     ?file/s]\n",
      "!\u001b[A\n",
      "  0%|          |4a48b8525d0669389f82adfb5d9339     0.00/? [00:00<?,        ?B/s]\u001b[A\n",
      "  0%|          |4a48b8525d0669389f82adfb5d9339 0.00/15.0M [00:00<?,        ?B/s]\u001b[A\n",
      " 67%|██████▋   |4a48b8525d0669389f82adfb5d10.0M/15.0M [00:01<00:00,    9.98MB/s]\u001b[A\n",
      "100%|██████████|4a48b8525d0669389f82adfb5d15.0M/15.0M [00:01<00:00,    10.7MB/s]\u001b[A\n",
      " 50% Transferring|███████████████▌               |1/2 [00:02<00:02,  2.96s/file]\u001b[A\n",
      "!\u001b[A\n",
      "  0%|          |dae486b37909363a5651ce54ee9819.dir 0.00/? [00:00<?,        ?B/s]\u001b[A\n",
      "  0%|          |dae486b37909363a5651ce54ee9819.d0.00/71.0 [00:00<?,        ?B/s]\u001b[A\n",
      "2 files pushed                                                                  \u001b[A\n",
      "\u001b[0m"
     ]
    }
   ],
   "source": [
    "!dvc push"
   ]
  },
  {
   "cell_type": "code",
   "execution_count": 44,
   "id": "31878aa0-c6e3-48cc-a85d-b0e03c94b59d",
   "metadata": {},
   "outputs": [
    {
     "name": "stdout",
     "output_type": "stream",
     "text": [
      "On branch master\n",
      "Changes not staged for commit:\n",
      "  (use \"git add <file>...\" to update what will be committed)\n",
      "  (use \"git restore <file>...\" to discard changes in working directory)\n",
      "\t\u001b[31mmodified:   data.dvc\u001b[m\n",
      "\n",
      "no changes added to commit (use \"git add\" and/or \"git commit -a\")\n"
     ]
    }
   ],
   "source": [
    "!git status"
   ]
  },
  {
   "cell_type": "code",
   "execution_count": 45,
   "id": "21998278-3748-43ff-b486-5a3a015496b0",
   "metadata": {},
   "outputs": [],
   "source": [
    "!git add ."
   ]
  },
  {
   "cell_type": "code",
   "execution_count": 46,
   "id": "cfb16352-9691-4abe-9577-3f4b6610cef7",
   "metadata": {},
   "outputs": [
    {
     "name": "stdout",
     "output_type": "stream",
     "text": [
      "[master bdb8b78] MNIST data version 1\n",
      " 1 file changed, 2 insertions(+), 2 deletions(-)\n"
     ]
    }
   ],
   "source": [
    "!git commit -m \"MNIST data version 1\""
   ]
  },
  {
   "cell_type": "code",
   "execution_count": 48,
   "id": "aaba2607-0636-43b7-bfcc-9c69729b046b",
   "metadata": {},
   "outputs": [
    {
     "name": "stdout",
     "output_type": "stream",
     "text": [
      "fatal: tag 'v0.1' already exists\n"
     ]
    }
   ],
   "source": [
    "!git tag \"v0.1\" -m \"version 0.1\""
   ]
  },
  {
   "cell_type": "code",
   "execution_count": 28,
   "id": "8dec014b-311a-4eb1-bb47-c0106b9c5d5d",
   "metadata": {},
   "outputs": [
    {
     "name": "stdout",
     "output_type": "stream",
     "text": [
      "\u001b[KEnumerating objects: 18, done.\n",
      "\u001b[KCounting objects: 100% (18/18), done.\n",
      "Delta compression using up to 8 threads\n",
      "\u001b[KCompressing objects: 100% (16/16), done.\n",
      "\u001b[KWriting objects: 100% (18/18), 6.05 KiB | 6.05 MiB/s, done.\n",
      "Total 18 (delta 5), reused 0 (delta 0)\n",
      "remote: Resolving deltas: 100% (5/5), done.\u001b[K\n",
      "remote: This repository moved. Please use the new location:\u001b[K\n",
      "remote:   https://github.com/Ssuwani/dvc-tutorial.git\u001b[K\n",
      "To https://github.com/ssuwani/dvc-tutorial\n",
      " * [new tag]         v0.1 -> v0.1\n"
     ]
    }
   ],
   "source": [
    "!git push origin v0.1"
   ]
  },
  {
   "cell_type": "code",
   "execution_count": 30,
   "id": "a3130871-fc12-40c6-92fe-45f563980498",
   "metadata": {},
   "outputs": [
    {
     "name": "stdout",
     "output_type": "stream",
     "text": [
      "Total 0 (delta 0), reused 0 (delta 0)\n",
      "remote: This repository moved. Please use the new location:\u001b[K\n",
      "remote:   https://github.com/Ssuwani/dvc-tutorial.git\u001b[K\n",
      "To https://github.com/ssuwani/dvc-tutorial\n",
      " * [new branch]      master -> master\n"
     ]
    }
   ],
   "source": [
    "!git push origin master"
   ]
  },
  {
   "cell_type": "markdown",
   "id": "dc145279-4fe5-46c0-831b-a83a64c202cb",
   "metadata": {},
   "source": [
    "### Version 2 Train data [20000 / 60000]"
   ]
  },
  {
   "cell_type": "code",
   "execution_count": 31,
   "id": "585f3033-7e59-471a-8d74-21b9a9b5e65a",
   "metadata": {},
   "outputs": [],
   "source": [
    "version = 2\n",
    "tag = \"v0.2\"\n",
    "train_x = X[:version * 10000]\n",
    "train_y = Y[:version * 10000]\n",
    "\n",
    "np.savez(\"data/dataset.npz\",\n",
    "        train_x=train_x,\n",
    "        train_y=train_y,\n",
    "        test_x=test_x,\n",
    "        test_y=test_y)"
   ]
  },
  {
   "cell_type": "code",
   "execution_count": 32,
   "id": "756d8638-41e8-4a15-817f-f5b833a0fc3a",
   "metadata": {},
   "outputs": [
    {
     "name": "stdout",
     "output_type": "stream",
     "text": [
      "\u001b[?25l                                                                          \u001b[32m⠋\u001b[0m Checking graph\n",
      "Adding...                                                                       \n",
      "!\u001b[A\n",
      "Computing file/dir hashes (only done once)            |0.00 [00:00,      ?md5/s]\u001b[A\n",
      "\n",
      "!\u001b[A\u001b[A\n",
      "\n",
      "  0%|          |                                   0.00/? [00:00<?,        ?B/s]\u001b[A\u001b[A\n",
      "\n",
      "                                                                                \u001b[A\u001b[A\n",
      "                                                                                \u001b[A\n",
      "!\u001b[A\n",
      "  0%|          |                                0.00/71.0 [00:00<?,        ?B/s]\u001b[A\n",
      "  0%|          |                                0.00/71.0 [00:00<?,        ?B/s]\u001b[A\n",
      "                                                                                \u001b[A\n",
      "!\u001b[A\n",
      "  0%|          |Querying cache in .dvc/cache    0.00/2.00 [00:00<?,     ?file/s]\u001b[A\n",
      "                                                                                \u001b[A\n",
      "!\u001b[A\n",
      "  0%|          |Transferring                          0/2 [00:00<?,     ?file/s]\u001b[A\n",
      "\n",
      "!\u001b[A\u001b[A\n",
      "\n",
      "  0%|          |769ce09d050967ef28af1b587aa841.dir 0.00/? [00:00<?,        ?B/s]\u001b[A\u001b[A\n",
      "\n",
      "  0%|          |769ce09d050967ef28af1b587aa841.d0.00/71.0 [00:00<?,        ?B/s]\u001b[A\u001b[A\n",
      "\n",
      "                                                                                \u001b[A\u001b[A\n",
      "100% Adding...|████████████████████████████████████████|1/1 [00:00, 15.71file/s]\u001b[A\n",
      "\n",
      "To track the changes with git, run:\n",
      "\n",
      "\tgit add data.dvc\n",
      "\u001b[0m[master c2e5ce5] MNIST data version  2\n",
      " 2 files changed, 192 insertions(+), 34 deletions(-)\n",
      "\u001b[KEnumerating objects: 8, done.\n",
      "\u001b[KCounting objects: 100% (8/8), done.\n",
      "Delta compression using up to 8 threads\n",
      "\u001b[KCompressing objects: 100% (5/5), done.\n",
      "\u001b[KWriting objects: 100% (5/5), 1.34 KiB | 1.34 MiB/s, done.\n",
      "Total 5 (delta 2), reused 0 (delta 0)\n",
      "remote: Resolving deltas: 100% (2/2), completed with 2 local objects.\u001b[K\n",
      "remote: This repository moved. Please use the new location:\u001b[K\n",
      "remote:   https://github.com/Ssuwani/dvc-tutorial.git\u001b[K\n",
      "To https://github.com/ssuwani/dvc-tutorial\n",
      " * [new tag]         v0.2 -> v0.2\n",
      "Total 0 (delta 0), reused 0 (delta 0)\n",
      "remote: This repository moved. Please use the new location:\u001b[K\n",
      "remote:   https://github.com/Ssuwani/dvc-tutorial.git\u001b[K\n",
      "To https://github.com/ssuwani/dvc-tutorial\n",
      "   db911c4..c2e5ce5  master -> master\n"
     ]
    }
   ],
   "source": [
    "!dvc add data\n",
    "!git commit -am \"MNIST data version ${version} $version\"\n",
    "!git tag -a $tag -m \"version $version\"\n",
    "!git push origin $tag\n",
    "!git push origin master"
   ]
  },
  {
   "cell_type": "markdown",
   "id": "9be4febc-380f-4c64-a90a-96cf406d007a",
   "metadata": {},
   "source": [
    "### Version 3 Train data [30000 / 60000]"
   ]
  },
  {
   "cell_type": "code",
   "execution_count": 33,
   "id": "448abd59-3df4-43b2-8972-0ab16dc49bdb",
   "metadata": {},
   "outputs": [],
   "source": [
    "version = 3\n",
    "tag = \"v0.3\"\n",
    "train_x = X[:version * 10000]\n",
    "train_y = Y[:version * 10000]\n",
    "\n",
    "np.savez(\"data/dataset.npz\",\n",
    "        train_x=train_x,\n",
    "        train_y=train_y,\n",
    "        test_x=test_x,\n",
    "        test_y=test_y)"
   ]
  },
  {
   "cell_type": "code",
   "execution_count": 34,
   "id": "1b877ee3-dfbf-4f0c-89f4-0d64fbc61e56",
   "metadata": {},
   "outputs": [
    {
     "name": "stdout",
     "output_type": "stream",
     "text": [
      "\u001b[?25l                                                                          \u001b[32m⠋\u001b[0m Checking graph\n",
      "Adding...                                                                       \n",
      "!\u001b[A\n",
      "Computing file/dir hashes (only done once)            |0.00 [00:00,      ?md5/s]\u001b[A\n",
      "\n",
      "!\u001b[A\u001b[A\n",
      "\n",
      "  0%|          |                                   0.00/? [00:00<?,        ?B/s]\u001b[A\u001b[A\n",
      "\n",
      "                                                                                \u001b[A\u001b[A\n",
      "                                                                                \u001b[A\n",
      "!\u001b[A\n",
      "  0%|          |                                0.00/71.0 [00:00<?,        ?B/s]\u001b[A\n",
      "  0%|          |                                0.00/71.0 [00:00<?,        ?B/s]\u001b[A\n",
      "                                                                                \u001b[A\n",
      "!\u001b[A\n",
      "  0%|          |Querying cache in .dvc/cache    0.00/2.00 [00:00<?,     ?file/s]\u001b[A\n",
      "                                                                                \u001b[A\n",
      "!\u001b[A\n",
      "  0%|          |Transferring                          0/2 [00:00<?,     ?file/s]\u001b[A\n",
      "\n",
      "!\u001b[A\u001b[A\n",
      "\n",
      "  0%|          |8e11483dc155a7400a3d215f640cb1.dir 0.00/? [00:00<?,        ?B/s]\u001b[A\u001b[A\n",
      "\n",
      "  0%|          |8e11483dc155a7400a3d215f640cb1.d0.00/71.0 [00:00<?,        ?B/s]\u001b[A\u001b[A\n",
      "\n",
      "                                                                                \u001b[A\u001b[A\n",
      "100% Adding...|████████████████████████████████████████|1/1 [00:00, 12.88file/s]\u001b[A\n",
      "\n",
      "To track the changes with git, run:\n",
      "\n",
      "\tgit add data.dvc\n",
      "\u001b[0m[master 7e85097] MNIST data version  3\n",
      " 2 files changed, 27 insertions(+), 78 deletions(-)\n",
      "\u001b[KEnumerating objects: 8, done.\n",
      "\u001b[KCounting objects: 100% (8/8), done.\n",
      "Delta compression using up to 8 threads\n",
      "\u001b[KCompressing objects: 100% (5/5), done.\n",
      "\u001b[KWriting objects: 100% (5/5), 930 bytes | 930.00 KiB/s, done.\n",
      "Total 5 (delta 2), reused 0 (delta 0)\n",
      "remote: Resolving deltas: 100% (2/2), completed with 2 local objects.\u001b[K\n",
      "remote: This repository moved. Please use the new location:\u001b[K\n",
      "remote:   https://github.com/Ssuwani/dvc-tutorial.git\u001b[K\n",
      "To https://github.com/ssuwani/dvc-tutorial\n",
      " * [new tag]         v0.3 -> v0.3\n",
      "Total 0 (delta 0), reused 0 (delta 0)\n",
      "remote: This repository moved. Please use the new location:\u001b[K\n",
      "remote:   https://github.com/Ssuwani/dvc-tutorial.git\u001b[K\n",
      "To https://github.com/ssuwani/dvc-tutorial\n",
      "   c2e5ce5..7e85097  master -> master\n"
     ]
    }
   ],
   "source": [
    "!dvc add data\n",
    "!git commit -am \"MNIST data version ${version} $version\"\n",
    "!git tag -a $tag -m \"version $version\"\n",
    "!git push origin $tag\n",
    "!git push origin master"
   ]
  },
  {
   "cell_type": "markdown",
   "id": "ccc71e80-85d4-4977-a7d0-0cc1ad75a507",
   "metadata": {},
   "source": [
    "### Version 4 Train data [40000 / 60000]"
   ]
  },
  {
   "cell_type": "code",
   "execution_count": 35,
   "id": "ca2a7213-2fa6-468e-b057-4ba3baae814c",
   "metadata": {},
   "outputs": [],
   "source": [
    "version = 4\n",
    "tag = \"v0.4\"\n",
    "train_x = X[:version * 10000]\n",
    "train_y = Y[:version * 10000]\n",
    "\n",
    "np.savez(\"data/dataset.npz\",\n",
    "        train_x=train_x,\n",
    "        train_y=train_y,\n",
    "        test_x=test_x,\n",
    "        test_y=test_y)"
   ]
  },
  {
   "cell_type": "code",
   "execution_count": 36,
   "id": "1774e5a6-ed21-456f-9292-1a78dbdb5fad",
   "metadata": {},
   "outputs": [
    {
     "name": "stdout",
     "output_type": "stream",
     "text": [
      "\u001b[?25l                                                                          \u001b[32m⠋\u001b[0m Checking graph\n",
      "Adding...                                                                       \n",
      "!\u001b[A\n",
      "Computing file/dir hashes (only done once)            |0.00 [00:00,      ?md5/s]\u001b[A\n",
      "\n",
      "!\u001b[A\u001b[A\n",
      "\n",
      "  0%|          |                                   0.00/? [00:00<?,        ?B/s]\u001b[A\u001b[A\n",
      "\n",
      "                                                                                \u001b[A\u001b[A\n",
      "                                                                                \u001b[A\n",
      "!\u001b[A\n",
      "  0%|          |                                0.00/71.0 [00:00<?,        ?B/s]\u001b[A\n",
      "  0%|          |                                0.00/71.0 [00:00<?,        ?B/s]\u001b[A\n",
      "                                                                                \u001b[A\n",
      "!\u001b[A\n",
      "  0%|          |Querying cache in .dvc/cache    0.00/2.00 [00:00<?,     ?file/s]\u001b[A\n",
      "                                                                                \u001b[A\n",
      "!\u001b[A\n",
      "  0%|          |Transferring                          0/2 [00:00<?,     ?file/s]\u001b[A\n",
      "\n",
      "!\u001b[A\u001b[A\n",
      "\n",
      "  0%|          |af37a79b085c6883822c7a1bb1d3d5.dir 0.00/? [00:00<?,        ?B/s]\u001b[A\u001b[A\n",
      "\n",
      "  0%|          |af37a79b085c6883822c7a1bb1d3d5.d0.00/71.0 [00:00<?,        ?B/s]\u001b[A\u001b[A\n",
      "\n",
      "                                                                                \u001b[A\u001b[A\n",
      "100% Adding...|████████████████████████████████████████|1/1 [00:00, 10.77file/s]\u001b[A\n",
      "\n",
      "To track the changes with git, run:\n",
      "\n",
      "\tgit add data.dvc\n",
      "\u001b[0m[master ef307a1] MNIST data version  4\n",
      " 1 file changed, 2 insertions(+), 2 deletions(-)\n",
      "\u001b[KEnumerating objects: 6, done.\n",
      "\u001b[KCounting objects: 100% (6/6), done.\n",
      "Delta compression using up to 8 threads\n",
      "\u001b[KCompressing objects: 100% (4/4), done.\n",
      "\u001b[KWriting objects: 100% (4/4), 473 bytes | 473.00 KiB/s, done.\n",
      "Total 4 (delta 1), reused 0 (delta 0)\n",
      "remote: Resolving deltas: 100% (1/1), completed with 1 local object.\u001b[K\n",
      "remote: This repository moved. Please use the new location:\u001b[K\n",
      "remote:   https://github.com/Ssuwani/dvc-tutorial.git\u001b[K\n",
      "To https://github.com/ssuwani/dvc-tutorial\n",
      " * [new tag]         v0.4 -> v0.4\n",
      "Total 0 (delta 0), reused 0 (delta 0)\n",
      "remote: This repository moved. Please use the new location:\u001b[K\n",
      "remote:   https://github.com/Ssuwani/dvc-tutorial.git\u001b[K\n",
      "To https://github.com/ssuwani/dvc-tutorial\n",
      "   7e85097..ef307a1  master -> master\n"
     ]
    }
   ],
   "source": [
    "!dvc add data\n",
    "!git commit -am \"MNIST data version ${version} $version\"\n",
    "!git tag -a $tag -m \"version $version\"\n",
    "!git push origin $tag\n",
    "!git push origin master"
   ]
  },
  {
   "cell_type": "markdown",
   "id": "f84d0bf7-62c1-46ca-8a1b-c554e3aeb1c9",
   "metadata": {},
   "source": [
    "### Version 5 Train data [50000 / 60000]"
   ]
  },
  {
   "cell_type": "code",
   "execution_count": 37,
   "id": "89b44f16-a394-48ed-93c6-5cf109617e75",
   "metadata": {},
   "outputs": [],
   "source": [
    "version = 5\n",
    "tag = \"v0.5\"\n",
    "train_x = X[:version * 10000]\n",
    "train_y = Y[:version * 10000]\n",
    "\n",
    "np.savez(\"data/dataset.npz\",\n",
    "        train_x=train_x,\n",
    "        train_y=train_y,\n",
    "        test_x=test_x,\n",
    "        test_y=test_y)"
   ]
  },
  {
   "cell_type": "code",
   "execution_count": 38,
   "id": "fb2ba41b-0f53-4a45-a67a-55ca879f14db",
   "metadata": {},
   "outputs": [
    {
     "name": "stdout",
     "output_type": "stream",
     "text": [
      "\u001b[?25l                                                                          \u001b[32m⠋\u001b[0m Checking graph\n",
      "Adding...                                                                       \n",
      "!\u001b[A\n",
      "Computing file/dir hashes (only done once)            |0.00 [00:00,      ?md5/s]\u001b[A\n",
      "\n",
      "!\u001b[A\u001b[A\n",
      "\n",
      "  0%|          |                                   0.00/? [00:00<?,        ?B/s]\u001b[A\u001b[A\n",
      "\n",
      "                                                                                \u001b[A\u001b[A\n",
      "                                                                                \u001b[A\n",
      "!\u001b[A\n",
      "  0%|          |                                0.00/71.0 [00:00<?,        ?B/s]\u001b[A\n",
      "  0%|          |                                0.00/71.0 [00:00<?,        ?B/s]\u001b[A\n",
      "                                                                                \u001b[A\n",
      "!\u001b[A\n",
      "  0%|          |Querying cache in .dvc/cache    0.00/2.00 [00:00<?,     ?file/s]\u001b[A\n",
      "                                                                                \u001b[A\n",
      "!\u001b[A\n",
      "  0%|          |Transferring                          0/2 [00:00<?,     ?file/s]\u001b[A\n",
      "\n",
      "!\u001b[A\u001b[A\n",
      "\n",
      "  0%|          |a0eac1aab68437d8b60967ba65836b.dir 0.00/? [00:00<?,        ?B/s]\u001b[A\u001b[A\n",
      "\n",
      "  0%|          |a0eac1aab68437d8b60967ba65836b.d0.00/71.0 [00:00<?,        ?B/s]\u001b[A\u001b[A\n",
      "\n",
      "                                                                                \u001b[A\u001b[A\n",
      "100% Adding...|████████████████████████████████████████|1/1 [00:00,  9.51file/s]\u001b[A\n",
      "\n",
      "To track the changes with git, run:\n",
      "\n",
      "\tgit add data.dvc\n",
      "\u001b[0m[master 1639b8d] MNIST data version  5\n",
      " 1 file changed, 2 insertions(+), 2 deletions(-)\n",
      "\u001b[KEnumerating objects: 6, done.\n",
      "\u001b[KCounting objects: 100% (6/6), done.\n",
      "Delta compression using up to 8 threads\n",
      "\u001b[KCompressing objects: 100% (4/4), done.\n",
      "\u001b[KWriting objects: 100% (4/4), 471 bytes | 471.00 KiB/s, done.\n",
      "Total 4 (delta 1), reused 0 (delta 0)\n",
      "remote: Resolving deltas: 100% (1/1), completed with 1 local object.\u001b[K\n",
      "remote: This repository moved. Please use the new location:\u001b[K\n",
      "remote:   https://github.com/Ssuwani/dvc-tutorial.git\u001b[K\n",
      "To https://github.com/ssuwani/dvc-tutorial\n",
      " * [new tag]         v0.5 -> v0.5\n",
      "Total 0 (delta 0), reused 0 (delta 0)\n",
      "remote: This repository moved. Please use the new location:\u001b[K\n",
      "remote:   https://github.com/Ssuwani/dvc-tutorial.git\u001b[K\n",
      "To https://github.com/ssuwani/dvc-tutorial\n",
      "   ef307a1..1639b8d  master -> master\n"
     ]
    }
   ],
   "source": [
    "!dvc add data\n",
    "!git commit -am \"MNIST data version ${version} $version\"\n",
    "!git tag -a $tag -m \"version $version\"\n",
    "!git push origin $tag\n",
    "!git push origin master"
   ]
  },
  {
   "cell_type": "markdown",
   "id": "e81c509c-eeed-4e99-8f8c-6e5668b26b5a",
   "metadata": {},
   "source": [
    "### Version 6 Train data [60000 / 60000]"
   ]
  },
  {
   "cell_type": "code",
   "execution_count": 39,
   "id": "9e58f26d-da82-490f-a908-7d0007ec94bd",
   "metadata": {},
   "outputs": [],
   "source": [
    "version = 6\n",
    "tag = \"v0.6\"\n",
    "train_x = X[:version * 10000]\n",
    "train_y = Y[:version * 10000]\n",
    "\n",
    "np.savez(\"data/dataset.npz\",\n",
    "        train_x=train_x,\n",
    "        train_y=train_y,\n",
    "        test_x=test_x,\n",
    "        test_y=test_y)"
   ]
  },
  {
   "cell_type": "code",
   "execution_count": 40,
   "id": "e6ce6d72-74d9-49fc-9043-8af48aba004f",
   "metadata": {},
   "outputs": [
    {
     "name": "stdout",
     "output_type": "stream",
     "text": [
      "\u001b[?25l\u001b[32m⠋\u001b[0m Checking graph                                                 \n",
      "Adding...                                                                       \n",
      "!\u001b[A\n",
      "Computing file/dir hashes (only done once)            |0.00 [00:00,      ?md5/s]\u001b[A\n",
      "\n",
      "!\u001b[A\u001b[A\n",
      "\n",
      "  0%|          |                                   0.00/? [00:00<?,        ?B/s]\u001b[A\u001b[A\n",
      "\n",
      "                                                                                \u001b[A\u001b[A\n",
      "Computing file/dir hashes (only done once)            |1.00 [00:00,   9.35md5/s]\u001b[A\n",
      "                                                                                \u001b[A\n",
      "!\u001b[A\n",
      "  0%|          |                                0.00/71.0 [00:00<?,        ?B/s]\u001b[A\n",
      "  0%|          |                                0.00/71.0 [00:00<?,        ?B/s]\u001b[A\n",
      "                                                                                \u001b[A\n",
      "!\u001b[A\n",
      "  0%|          |Querying cache in .dvc/cache    0.00/2.00 [00:00<?,     ?file/s]\u001b[A\n",
      "                                                                                \u001b[A\n",
      "!\u001b[A\n",
      "  0%|          |Transferring                          0/2 [00:00<?,     ?file/s]\u001b[A\n",
      "\n",
      "!\u001b[A\u001b[A\n",
      "\n",
      "  0%|          |73187cab9846a1cdc85d2e8922e06d.dir 0.00/? [00:00<?,        ?B/s]\u001b[A\u001b[A\n",
      "\n",
      "  0%|          |73187cab9846a1cdc85d2e8922e06d.d0.00/71.0 [00:00<?,        ?B/s]\u001b[A\u001b[A\n",
      "\n",
      "                                                                                \u001b[A\u001b[A\n",
      "100% Adding...|████████████████████████████████████████|1/1 [00:00,  8.34file/s]\u001b[A\n",
      "\n",
      "To track the changes with git, run:\n",
      "\n",
      "\tgit add data.dvc\n",
      "\u001b[0m[master ef7dd04] MNIST data version  6\n",
      " 1 file changed, 2 insertions(+), 2 deletions(-)\n",
      "\u001b[KEnumerating objects: 6, done.\n",
      "\u001b[KCounting objects: 100% (6/6), done.\n",
      "Delta compression using up to 8 threads\n",
      "\u001b[KCompressing objects: 100% (4/4), done.\n",
      "\u001b[KWriting objects: 100% (4/4), 472 bytes | 472.00 KiB/s, done.\n",
      "Total 4 (delta 1), reused 0 (delta 0)\n",
      "remote: Resolving deltas: 100% (1/1), completed with 1 local object.\u001b[K\n",
      "remote: This repository moved. Please use the new location:\u001b[K\n",
      "remote:   https://github.com/Ssuwani/dvc-tutorial.git\u001b[K\n",
      "To https://github.com/ssuwani/dvc-tutorial\n",
      " * [new tag]         v0.6 -> v0.6\n",
      "Total 0 (delta 0), reused 0 (delta 0)\n",
      "remote: This repository moved. Please use the new location:\u001b[K\n",
      "remote:   https://github.com/Ssuwani/dvc-tutorial.git\u001b[K\n",
      "To https://github.com/ssuwani/dvc-tutorial\n",
      "   1639b8d..ef7dd04  master -> master\n"
     ]
    }
   ],
   "source": [
    "!dvc add data\n",
    "!git commit -am \"MNIST data version ${version} $version\"\n",
    "!git tag -a $tag -m \"version $version\"\n",
    "!git push origin $tag\n",
    "!git push origin master"
   ]
  },
  {
   "cell_type": "code",
   "execution_count": null,
   "id": "768b27fe-ad9f-4b1a-bb3b-385e9e5a3191",
   "metadata": {},
   "outputs": [],
   "source": [
    ".ipynb_checkpoints/"
   ]
  }
 ],
 "metadata": {
  "kernelspec": {
   "display_name": "Python 3 (ipykernel)",
   "language": "python",
   "name": "python3"
  },
  "language_info": {
   "codemirror_mode": {
    "name": "ipython",
    "version": 3
   },
   "file_extension": ".py",
   "mimetype": "text/x-python",
   "name": "python",
   "nbconvert_exporter": "python",
   "pygments_lexer": "ipython3",
   "version": "3.8.12"
  }
 },
 "nbformat": 4,
 "nbformat_minor": 5
}
