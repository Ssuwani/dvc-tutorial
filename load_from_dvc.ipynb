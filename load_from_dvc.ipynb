{
 "cells": [
  {
   "cell_type": "markdown",
   "id": "91126bee-40c8-40b1-b6a0-4f30df0fdb38",
   "metadata": {},
   "source": [
    "## dvc-tutorial에 저장된 버전 6개를 불러와보자"
   ]
  },
  {
   "cell_type": "code",
   "execution_count": 1,
   "id": "f92ab697-6bbb-420b-9b16-a805da8af2f6",
   "metadata": {},
   "outputs": [],
   "source": [
    "import dvc.api\n",
    "import numpy as np "
   ]
  },
  {
   "cell_type": "markdown",
   "id": "a5004b24-c4fd-44a1-82dc-acd99acc795e",
   "metadata": {},
   "source": [
    "### version 1"
   ]
  },
  {
   "cell_type": "code",
   "execution_count": 2,
   "id": "f1b71f7f-912c-47f9-9772-e3f5a78770fb",
   "metadata": {},
   "outputs": [
    {
     "name": "stderr",
     "output_type": "stream",
     "text": [
      "/opt/conda/lib/python3.7/site-packages/gcsfs/core.py:262: UserWarning: GCS project not set - cannot list or create buckets\n",
      "  warnings.warn(\"GCS project not set - cannot list or create buckets\")\n"
     ]
    }
   ],
   "source": [
    "with dvc.api.open(\n",
    "    'data/dataset.npz',\n",
    "    repo='https://github.com/ssuwani/dvc-tutorial',\n",
    "    mode=\"rb\",\n",
    "    rev=\"refs/tags/v0.1\" # 이거만 추가되었음\n",
    ") as fd:\n",
    "    dataset = np.load(fd)\n",
    "    train_x = dataset[\"train_x\"]\n",
    "    train_y = dataset[\"train_y\"]\n",
    "    test_x = dataset[\"test_x\"]\n",
    "    test_y = dataset[\"test_y\"]"
   ]
  },
  {
   "cell_type": "code",
   "execution_count": 3,
   "id": "46e9d787-6ca0-41c8-b837-4134a2a687d8",
   "metadata": {},
   "outputs": [
    {
     "data": {
      "text/plain": [
       "((10000, 28, 28), (10000,), (10000, 28, 28), (10000,))"
      ]
     },
     "execution_count": 3,
     "metadata": {},
     "output_type": "execute_result"
    }
   ],
   "source": [
    "train_x.shape, train_y.shape, test_x.shape, test_y.shape"
   ]
  },
  {
   "cell_type": "markdown",
   "id": "570db69b-a903-4817-9822-57c4c6928f3d",
   "metadata": {},
   "source": [
    "### version 2"
   ]
  },
  {
   "cell_type": "code",
   "execution_count": 4,
   "id": "dd2963ce-c012-402d-9650-385868c9ca1c",
   "metadata": {},
   "outputs": [
    {
     "name": "stderr",
     "output_type": "stream",
     "text": [
      "/opt/conda/lib/python3.7/site-packages/gcsfs/core.py:262: UserWarning: GCS project not set - cannot list or create buckets\n",
      "  warnings.warn(\"GCS project not set - cannot list or create buckets\")\n"
     ]
    }
   ],
   "source": [
    "with dvc.api.open(\n",
    "    'data/dataset.npz',\n",
    "    repo='https://github.com/ssuwani/dvc-tutorial',\n",
    "    mode=\"rb\",\n",
    "    rev=\"refs/tags/v0.2\" # 이거만 추가되었음\n",
    ") as fd:\n",
    "    dataset = np.load(fd)\n",
    "    train_x = dataset[\"train_x\"]\n",
    "    train_y = dataset[\"train_y\"]\n",
    "    test_x = dataset[\"test_x\"]\n",
    "    test_y = dataset[\"test_y\"]"
   ]
  },
  {
   "cell_type": "code",
   "execution_count": 5,
   "id": "4664d754-6509-4871-9a27-f098b3546b23",
   "metadata": {},
   "outputs": [
    {
     "data": {
      "text/plain": [
       "((20000, 28, 28), (20000,), (10000, 28, 28), (10000,))"
      ]
     },
     "execution_count": 5,
     "metadata": {},
     "output_type": "execute_result"
    }
   ],
   "source": [
    "train_x.shape, train_y.shape, test_x.shape, test_y.shape"
   ]
  },
  {
   "cell_type": "markdown",
   "id": "1e9e520a-16ee-44f4-8e8c-787c83e615a8",
   "metadata": {},
   "source": [
    "### version 3"
   ]
  },
  {
   "cell_type": "code",
   "execution_count": 6,
   "id": "6fe9be26-35aa-4d8d-bc75-45fa2168f9c4",
   "metadata": {},
   "outputs": [
    {
     "name": "stderr",
     "output_type": "stream",
     "text": [
      "/opt/conda/lib/python3.7/site-packages/gcsfs/core.py:262: UserWarning: GCS project not set - cannot list or create buckets\n",
      "  warnings.warn(\"GCS project not set - cannot list or create buckets\")\n"
     ]
    }
   ],
   "source": [
    "with dvc.api.open(\n",
    "    'data/dataset.npz',\n",
    "    repo='https://github.com/ssuwani/dvc-tutorial',\n",
    "    mode=\"rb\",\n",
    "    rev=\"refs/tags/v0.3\" # 이거만 추가되었음\n",
    ") as fd:\n",
    "    dataset = np.load(fd)\n",
    "    train_x = dataset[\"train_x\"]\n",
    "    train_y = dataset[\"train_y\"]\n",
    "    test_x = dataset[\"test_x\"]\n",
    "    test_y = dataset[\"test_y\"]"
   ]
  },
  {
   "cell_type": "code",
   "execution_count": 7,
   "id": "e2cfd0c8-58db-4f6c-b5c7-c75eb069d845",
   "metadata": {},
   "outputs": [
    {
     "data": {
      "text/plain": [
       "((30000, 28, 28), (30000,), (10000, 28, 28), (10000,))"
      ]
     },
     "execution_count": 7,
     "metadata": {},
     "output_type": "execute_result"
    }
   ],
   "source": [
    "train_x.shape, train_y.shape, test_x.shape, test_y.shape"
   ]
  },
  {
   "cell_type": "markdown",
   "id": "f682c7d4-bfd7-496b-b408-14034f18778a",
   "metadata": {},
   "source": [
    "### version 4"
   ]
  },
  {
   "cell_type": "code",
   "execution_count": 8,
   "id": "70bdc19e-f682-41eb-910c-474ff706af07",
   "metadata": {},
   "outputs": [
    {
     "name": "stderr",
     "output_type": "stream",
     "text": [
      "/opt/conda/lib/python3.7/site-packages/gcsfs/core.py:262: UserWarning: GCS project not set - cannot list or create buckets\n",
      "  warnings.warn(\"GCS project not set - cannot list or create buckets\")\n"
     ]
    }
   ],
   "source": [
    "with dvc.api.open(\n",
    "    'data/dataset.npz',\n",
    "    repo='https://github.com/ssuwani/dvc-tutorial',\n",
    "    mode=\"rb\",\n",
    "    rev=\"refs/tags/v0.4\" # 이거만 추가되었음\n",
    ") as fd:\n",
    "    dataset = np.load(fd)\n",
    "    train_x = dataset[\"train_x\"]\n",
    "    train_y = dataset[\"train_y\"]\n",
    "    test_x = dataset[\"test_x\"]\n",
    "    test_y = dataset[\"test_y\"]"
   ]
  },
  {
   "cell_type": "code",
   "execution_count": 9,
   "id": "31e4010d-55ee-411e-9a63-de34bf5b17b7",
   "metadata": {},
   "outputs": [
    {
     "data": {
      "text/plain": [
       "((40000, 28, 28), (40000,), (10000, 28, 28), (10000,))"
      ]
     },
     "execution_count": 9,
     "metadata": {},
     "output_type": "execute_result"
    }
   ],
   "source": [
    "train_x.shape, train_y.shape, test_x.shape, test_y.shape"
   ]
  },
  {
   "cell_type": "markdown",
   "id": "a2fab1fd-ef6f-4182-92a2-d56d0d97d2c6",
   "metadata": {},
   "source": [
    "### version 5"
   ]
  },
  {
   "cell_type": "code",
   "execution_count": 10,
   "id": "6ad36f27-955b-4882-a4c2-acbd4341addd",
   "metadata": {},
   "outputs": [
    {
     "name": "stderr",
     "output_type": "stream",
     "text": [
      "/opt/conda/lib/python3.7/site-packages/gcsfs/core.py:262: UserWarning: GCS project not set - cannot list or create buckets\n",
      "  warnings.warn(\"GCS project not set - cannot list or create buckets\")\n"
     ]
    }
   ],
   "source": [
    "with dvc.api.open(\n",
    "    'data/dataset.npz',\n",
    "    repo='https://github.com/ssuwani/dvc-tutorial',\n",
    "    mode=\"rb\",\n",
    "    rev=\"refs/tags/v0.5\" # 이거만 추가되었음\n",
    ") as fd:\n",
    "    dataset = np.load(fd)\n",
    "    train_x = dataset[\"train_x\"]\n",
    "    train_y = dataset[\"train_y\"]\n",
    "    test_x = dataset[\"test_x\"]\n",
    "    test_y = dataset[\"test_y\"]"
   ]
  },
  {
   "cell_type": "code",
   "execution_count": 11,
   "id": "c9741e6e-b31d-4168-95e1-0dc5909947a6",
   "metadata": {},
   "outputs": [
    {
     "data": {
      "text/plain": [
       "((50000, 28, 28), (50000,), (10000, 28, 28), (10000,))"
      ]
     },
     "execution_count": 11,
     "metadata": {},
     "output_type": "execute_result"
    }
   ],
   "source": [
    "train_x.shape, train_y.shape, test_x.shape, test_y.shape"
   ]
  },
  {
   "cell_type": "markdown",
   "id": "50958586-431d-42c7-82f4-421ed3ef58c0",
   "metadata": {},
   "source": [
    "### version 6"
   ]
  },
  {
   "cell_type": "code",
   "execution_count": 12,
   "id": "28f34213-c4a2-4f50-819b-357ddd1d05b9",
   "metadata": {},
   "outputs": [
    {
     "name": "stderr",
     "output_type": "stream",
     "text": [
      "/opt/conda/lib/python3.7/site-packages/gcsfs/core.py:262: UserWarning: GCS project not set - cannot list or create buckets\n",
      "  warnings.warn(\"GCS project not set - cannot list or create buckets\")\n"
     ]
    }
   ],
   "source": [
    "with dvc.api.open(\n",
    "    'data/dataset.npz',\n",
    "    repo='https://github.com/ssuwani/dvc-tutorial',\n",
    "    mode=\"rb\",\n",
    "    rev=\"refs/tags/v0.6\" # 이거만 추가되었음\n",
    ") as fd:\n",
    "    dataset = np.load(fd)\n",
    "    train_x = dataset[\"train_x\"]\n",
    "    train_y = dataset[\"train_y\"]\n",
    "    test_x = dataset[\"test_x\"]\n",
    "    test_y = dataset[\"test_y\"]"
   ]
  },
  {
   "cell_type": "code",
   "execution_count": 13,
   "id": "11fc4c7f-55fb-49ea-8a48-2f4e4edec409",
   "metadata": {},
   "outputs": [
    {
     "data": {
      "text/plain": [
       "((60000, 28, 28), (60000,), (10000, 28, 28), (10000,))"
      ]
     },
     "execution_count": 13,
     "metadata": {},
     "output_type": "execute_result"
    }
   ],
   "source": [
    "train_x.shape, train_y.shape, test_x.shape, test_y.shape"
   ]
  }
 ],
 "metadata": {
  "environment": {
   "kernel": "python3",
   "name": "tf2-gpu.2-6.m86",
   "type": "gcloud",
   "uri": "gcr.io/deeplearning-platform-release/tf2-gpu.2-6:m86"
  },
  "kernelspec": {
   "display_name": "Python 3",
   "language": "python",
   "name": "python3"
  },
  "language_info": {
   "codemirror_mode": {
    "name": "ipython",
    "version": 3
   },
   "file_extension": ".py",
   "mimetype": "text/x-python",
   "name": "python",
   "nbconvert_exporter": "python",
   "pygments_lexer": "ipython3",
   "version": "3.7.12"
  }
 },
 "nbformat": 4,
 "nbformat_minor": 5
}
